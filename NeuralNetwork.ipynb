{
 "cells": [
  {
   "cell_type": "code",
   "execution_count": 1,
   "metadata": {},
   "outputs": [],
   "source": [
    "import numpy as np  \n",
    "import pandas as pd\n",
    "import matplotlib.pyplot as plt\n",
    "from sklearn.preprocessing import LabelEncoder"
   ]
  },
  {
   "cell_type": "code",
   "execution_count": 2,
   "metadata": {},
   "outputs": [
    {
     "data": {
      "text/html": [
       "<div>\n",
       "<style scoped>\n",
       "    .dataframe tbody tr th:only-of-type {\n",
       "        vertical-align: middle;\n",
       "    }\n",
       "\n",
       "    .dataframe tbody tr th {\n",
       "        vertical-align: top;\n",
       "    }\n",
       "\n",
       "    .dataframe thead th {\n",
       "        text-align: right;\n",
       "    }\n",
       "</style>\n",
       "<table border=\"1\" class=\"dataframe\">\n",
       "  <thead>\n",
       "    <tr style=\"text-align: right;\">\n",
       "      <th></th>\n",
       "      <th>outlook</th>\n",
       "      <th>temperature</th>\n",
       "      <th>humidity</th>\n",
       "      <th>windy</th>\n",
       "      <th>play</th>\n",
       "    </tr>\n",
       "  </thead>\n",
       "  <tbody>\n",
       "    <tr>\n",
       "      <th>0</th>\n",
       "      <td>sunny</td>\n",
       "      <td>85</td>\n",
       "      <td>85</td>\n",
       "      <td>False</td>\n",
       "      <td>no</td>\n",
       "    </tr>\n",
       "    <tr>\n",
       "      <th>1</th>\n",
       "      <td>sunny</td>\n",
       "      <td>80</td>\n",
       "      <td>90</td>\n",
       "      <td>True</td>\n",
       "      <td>no</td>\n",
       "    </tr>\n",
       "    <tr>\n",
       "      <th>2</th>\n",
       "      <td>overcast</td>\n",
       "      <td>83</td>\n",
       "      <td>86</td>\n",
       "      <td>False</td>\n",
       "      <td>yes</td>\n",
       "    </tr>\n",
       "    <tr>\n",
       "      <th>3</th>\n",
       "      <td>rainy</td>\n",
       "      <td>70</td>\n",
       "      <td>96</td>\n",
       "      <td>False</td>\n",
       "      <td>yes</td>\n",
       "    </tr>\n",
       "    <tr>\n",
       "      <th>4</th>\n",
       "      <td>rainy</td>\n",
       "      <td>68</td>\n",
       "      <td>80</td>\n",
       "      <td>False</td>\n",
       "      <td>yes</td>\n",
       "    </tr>\n",
       "  </tbody>\n",
       "</table>\n",
       "</div>"
      ],
      "text/plain": [
       "    outlook  temperature  humidity  windy play\n",
       "0     sunny           85        85  False   no\n",
       "1     sunny           80        90   True   no\n",
       "2  overcast           83        86  False  yes\n",
       "3     rainy           70        96  False  yes\n",
       "4     rainy           68        80  False  yes"
      ]
     },
     "execution_count": 2,
     "metadata": {},
     "output_type": "execute_result"
    }
   ],
   "source": [
    "df_data_all = pd.read_csv('tennis-cont.csv')\n",
    "df_data_all.head()"
   ]
  },
  {
   "cell_type": "code",
   "execution_count": 271,
   "metadata": {},
   "outputs": [
    {
     "data": {
      "text/plain": [
       "14"
      ]
     },
     "execution_count": 271,
     "metadata": {},
     "output_type": "execute_result"
    }
   ],
   "source": [
    "encoder = LabelEncoder()\n",
    "df_data_all = df_data_all.apply(encoder.fit_transform)\n",
    "df_data = df_data_all.drop(['play'], axis=1)\n",
    "len(df_data.index)"
   ]
  },
  {
   "cell_type": "code",
   "execution_count": 256,
   "metadata": {},
   "outputs": [
    {
     "data": {
      "text/plain": [
       "38"
      ]
     },
     "execution_count": 256,
     "metadata": {},
     "output_type": "execute_result"
    }
   ],
   "source": [
    "y = np.dot(df_data.loc[0], [[1,1],[1,1],[1,2],[1,1]])\n",
    "x = np.dot(y, [1,1])\n",
    "x"
   ]
  },
  {
   "cell_type": "code",
   "execution_count": 724,
   "metadata": {},
   "outputs": [
    {
     "data": {
      "text/plain": [
       "array([ 2, 11,  4,  0], dtype=int32)"
      ]
     },
     "execution_count": 724,
     "metadata": {},
     "output_type": "execute_result"
    }
   ],
   "source": [
    "df_data.loc[0].values"
   ]
  },
  {
   "cell_type": "code",
   "execution_count": 37,
   "metadata": {},
   "outputs": [],
   "source": [
    "def sigmoid(x):\n",
    "    return 1/(1+np.exp(-x))"
   ]
  },
  {
   "cell_type": "code",
   "execution_count": 5,
   "metadata": {},
   "outputs": [],
   "source": [
    "# Node output 1\n",
    "# Hidden layer max 10\n",
    "# bisa momentum atau tidak"
   ]
  },
  {
   "cell_type": "code",
   "execution_count": 792,
   "metadata": {},
   "outputs": [],
   "source": [
    "class NNClassifier():\n",
    "    learning_rate = 0.001\n",
    "    momentum = 0.9\n",
    "    \n",
    "    def __init__(self, lr, momen, feature_size):\n",
    "        self.weights = []\n",
    "        self.before_weights = []\n",
    "        self.layer = []\n",
    "        self.learning_rate = lr\n",
    "        self.momentum = momen\n",
    "        self.layer.append(feature_size) # 1 for initiation\n",
    "    \n",
    "    def add(self, node): #add hidden layer\n",
    "        if len(self.layer) < 11:\n",
    "            self.layer.append(node)\n",
    "        else:\n",
    "            print(\"Maximum hidden layer = 10\")\n",
    "    \n",
    "    def fit(self, X, y, batch_size):\n",
    "        self.layer.append(1) # add output layer\n",
    "        for i in range (len(self.layer)-1): # random weight for all\n",
    "            temp = np.random.rand(int(self.layer[i]),int(self.layer[i+1]))\n",
    "            self.weights += [temp]\n",
    "        \n",
    "        for epoch in range(2):\n",
    "            delta_weights = 0\n",
    "            for i in range(len(X.index)):\n",
    "                #feed forward\n",
    "                output= self.feed_forward(X.loc[i].values)\n",
    "                self.before_weights = self.weights\n",
    "                output.insert(0, X.loc[0].values)\n",
    "                \n",
    "                #back propagation\n",
    "                self.back_propagation(y[i], output)\n",
    "                \n",
    "                #if (i % batch_size == 0):\n",
    "                    #update weight\n",
    "            print(self.weights)\n",
    "            \n",
    "    def predict(self, X):\n",
    "        return (feed_forward(X))\n",
    "    \n",
    "    def feed_forward(self, X):\n",
    "        out = X\n",
    "        output = []\n",
    "        #print(self.layer)\n",
    "        for i in range(len(self.layer)-1):\n",
    "            #print(\"out \", out)\n",
    "            #print(\"self-weight \", self.weights[i])\n",
    "            out = sigmoid(np.dot(out, self.weights[i]))\n",
    "            output.append(out)\n",
    "        return(output)\n",
    "                \n",
    "    def back_propagation(self, y, output):\n",
    "        out_error = self.calculate_out_node_err(output[-1][0], y)\n",
    "        \n",
    "        for i in range(len(self.layer)-1,0,-1):\n",
    "            index_layer = i-1 #index layer \n",
    "            next_layer = i #layer setelah index_layer\n",
    "            if (i == len(self.layer)-1):\n",
    "                after_error = out_error\n",
    "            for from_node in range(self.layer[index_layer]):\n",
    "                error = self.calculate_hidden_node_err(next_layer, from_node, output[index_layer][from_node], after_error)\n",
    "                bef_delta = self.weights[index_layer][from_node] - self.before_weights[index_layer][from_node]\n",
    "                for to_node in range(self.layer[next_layer]):\n",
    "                    print(\"layer: \", str(i), \"next node ke:\", str(to_node), \" dari \", str(from_node))\n",
    "                    print(\"weights: \", self.weights[index_layer][from_node][to_node])\n",
    "                    self.update_weight(index_layer, from_node, to_node, output[index_layer][from_node], after_error, bef_delta)\n",
    "                after_error = error\n",
    "        print (self.weights)\n",
    "            \n",
    "            \n",
    "    def calculate_out_node_err(self, pred, y):\n",
    "        return pred * (1-pred) * (y-pred)\n",
    "    \n",
    "    # next_err = delta_k untuk k = jumlah node layer setelahnya\n",
    "    # layer = menunjukkan layer untuk node h\n",
    "    # node = menunjukkan node next\n",
    "    # oh = output node h\n",
    "    def calculate_hidden_node_err(self, layer, node, oh, next_err):\n",
    "        sum = 0\n",
    "        for i in range(self.layer[layer]):\n",
    "            sum = sum + (self.weights[layer-1][node][i] * next_err)\n",
    "        delt = oh*(1-oh) * sum\n",
    "        return delt\n",
    "        \n",
    "    # next_err = delta_j untuk\n",
    "    # layer = menunjukkan layer untuk node h\n",
    "    # bef_delt = delta sebelumnya\n",
    "    def update_weight(self, layer, from_node, to_node, x, next_err, bef_delt):\n",
    "        delta = (self.learning_rate * next_err * x) + (self.momentum * bef_delt)\n",
    "        self.weights[layer][from_node][to_node] = self.weights[layer][from_node][to_node] + delta\n",
    "        \n",
    "    def get_weights(self):\n",
    "        print(self.weights)    \n",
    "    "
   ]
  },
  {
   "cell_type": "code",
   "execution_count": 793,
   "metadata": {},
   "outputs": [
    {
     "data": {
      "text/plain": [
       "[4]"
      ]
     },
     "execution_count": 793,
     "metadata": {},
     "output_type": "execute_result"
    }
   ],
   "source": [
    "clf = NNClassifier(0.1, 0.9, feature_size=4)\n",
    "clf.layer"
   ]
  },
  {
   "cell_type": "code",
   "execution_count": 794,
   "metadata": {},
   "outputs": [],
   "source": [
    "clf.add(2)"
   ]
  },
  {
   "cell_type": "code",
   "execution_count": 795,
   "metadata": {},
   "outputs": [
    {
     "data": {
      "text/plain": [
       "[4, 2]"
      ]
     },
     "execution_count": 795,
     "metadata": {},
     "output_type": "execute_result"
    }
   ],
   "source": [
    "clf.layer"
   ]
  },
  {
   "cell_type": "code",
   "execution_count": 796,
   "metadata": {},
   "outputs": [
    {
     "name": "stdout",
     "output_type": "stream",
     "text": [
      "layer:  2 next node ke: 0  dari  0\n",
      "weights:  0.754089231102\n",
      "layer:  2 next node ke: 0  dari  1\n",
      "weights:  0.158779492272\n",
      "layer:  1 next node ke: 0  dari  0\n",
      "weights:  0.252601601998\n"
     ]
    },
    {
     "ename": "ValueError",
     "evalue": "setting an array element with a sequence.",
     "output_type": "error",
     "traceback": [
      "\u001b[1;31m---------------------------------------------------------------------------\u001b[0m",
      "\u001b[1;31mValueError\u001b[0m                                Traceback (most recent call last)",
      "\u001b[1;32m<ipython-input-796-3bd6ae929bcf>\u001b[0m in \u001b[0;36m<module>\u001b[1;34m()\u001b[0m\n\u001b[1;32m----> 1\u001b[1;33m \u001b[0mclf\u001b[0m\u001b[1;33m.\u001b[0m\u001b[0mfit\u001b[0m\u001b[1;33m(\u001b[0m\u001b[0mdf_data\u001b[0m\u001b[1;33m,\u001b[0m \u001b[0mdf_data_all\u001b[0m\u001b[1;33m[\u001b[0m\u001b[1;34m'play'\u001b[0m\u001b[1;33m]\u001b[0m\u001b[1;33m,\u001b[0m \u001b[1;36m1\u001b[0m\u001b[1;33m)\u001b[0m\u001b[1;33m\u001b[0m\u001b[0m\n\u001b[0m",
      "\u001b[1;32m<ipython-input-792-c8ac7d34efb4>\u001b[0m in \u001b[0;36mfit\u001b[1;34m(self, X, y, batch_size)\u001b[0m\n\u001b[0;32m     32\u001b[0m \u001b[1;33m\u001b[0m\u001b[0m\n\u001b[0;32m     33\u001b[0m                 \u001b[1;31m#back propagation\u001b[0m\u001b[1;33m\u001b[0m\u001b[1;33m\u001b[0m\u001b[0m\n\u001b[1;32m---> 34\u001b[1;33m                 \u001b[0mself\u001b[0m\u001b[1;33m.\u001b[0m\u001b[0mback_propagation\u001b[0m\u001b[1;33m(\u001b[0m\u001b[0my\u001b[0m\u001b[1;33m[\u001b[0m\u001b[0mi\u001b[0m\u001b[1;33m]\u001b[0m\u001b[1;33m,\u001b[0m \u001b[0moutput\u001b[0m\u001b[1;33m)\u001b[0m\u001b[1;33m\u001b[0m\u001b[0m\n\u001b[0m\u001b[0;32m     35\u001b[0m \u001b[1;33m\u001b[0m\u001b[0m\n\u001b[0;32m     36\u001b[0m                 \u001b[1;31m#if (i % batch_size == 0):\u001b[0m\u001b[1;33m\u001b[0m\u001b[1;33m\u001b[0m\u001b[0m\n",
      "\u001b[1;32m<ipython-input-792-c8ac7d34efb4>\u001b[0m in \u001b[0;36mback_propagation\u001b[1;34m(self, y, output)\u001b[0m\n\u001b[0;32m     66\u001b[0m                     \u001b[0mprint\u001b[0m\u001b[1;33m(\u001b[0m\u001b[1;34m\"layer: \"\u001b[0m\u001b[1;33m,\u001b[0m \u001b[0mstr\u001b[0m\u001b[1;33m(\u001b[0m\u001b[0mi\u001b[0m\u001b[1;33m)\u001b[0m\u001b[1;33m,\u001b[0m \u001b[1;34m\"next node ke:\"\u001b[0m\u001b[1;33m,\u001b[0m \u001b[0mstr\u001b[0m\u001b[1;33m(\u001b[0m\u001b[0mto_node\u001b[0m\u001b[1;33m)\u001b[0m\u001b[1;33m,\u001b[0m \u001b[1;34m\" dari \"\u001b[0m\u001b[1;33m,\u001b[0m \u001b[0mstr\u001b[0m\u001b[1;33m(\u001b[0m\u001b[0mfrom_node\u001b[0m\u001b[1;33m)\u001b[0m\u001b[1;33m)\u001b[0m\u001b[1;33m\u001b[0m\u001b[0m\n\u001b[0;32m     67\u001b[0m                     \u001b[0mprint\u001b[0m\u001b[1;33m(\u001b[0m\u001b[1;34m\"weights: \"\u001b[0m\u001b[1;33m,\u001b[0m \u001b[0mself\u001b[0m\u001b[1;33m.\u001b[0m\u001b[0mweights\u001b[0m\u001b[1;33m[\u001b[0m\u001b[0mindex_layer\u001b[0m\u001b[1;33m]\u001b[0m\u001b[1;33m[\u001b[0m\u001b[0mfrom_node\u001b[0m\u001b[1;33m]\u001b[0m\u001b[1;33m[\u001b[0m\u001b[0mto_node\u001b[0m\u001b[1;33m]\u001b[0m\u001b[1;33m)\u001b[0m\u001b[1;33m\u001b[0m\u001b[0m\n\u001b[1;32m---> 68\u001b[1;33m                     \u001b[0mself\u001b[0m\u001b[1;33m.\u001b[0m\u001b[0mupdate_weight\u001b[0m\u001b[1;33m(\u001b[0m\u001b[0mindex_layer\u001b[0m\u001b[1;33m,\u001b[0m \u001b[0mfrom_node\u001b[0m\u001b[1;33m,\u001b[0m \u001b[0mto_node\u001b[0m\u001b[1;33m,\u001b[0m \u001b[0moutput\u001b[0m\u001b[1;33m[\u001b[0m\u001b[0mindex_layer\u001b[0m\u001b[1;33m]\u001b[0m\u001b[1;33m[\u001b[0m\u001b[0mfrom_node\u001b[0m\u001b[1;33m]\u001b[0m\u001b[1;33m,\u001b[0m \u001b[0mafter_error\u001b[0m\u001b[1;33m,\u001b[0m \u001b[0mbef_delta\u001b[0m\u001b[1;33m)\u001b[0m\u001b[1;33m\u001b[0m\u001b[0m\n\u001b[0m\u001b[0;32m     69\u001b[0m                 \u001b[0mafter_error\u001b[0m \u001b[1;33m=\u001b[0m \u001b[0merror\u001b[0m\u001b[1;33m\u001b[0m\u001b[0m\n\u001b[0;32m     70\u001b[0m         \u001b[0mprint\u001b[0m \u001b[1;33m(\u001b[0m\u001b[0mself\u001b[0m\u001b[1;33m.\u001b[0m\u001b[0mweights\u001b[0m\u001b[1;33m)\u001b[0m\u001b[1;33m\u001b[0m\u001b[0m\n",
      "\u001b[1;32m<ipython-input-792-c8ac7d34efb4>\u001b[0m in \u001b[0;36mupdate_weight\u001b[1;34m(self, layer, from_node, to_node, x, next_err, bef_delt)\u001b[0m\n\u001b[0;32m     90\u001b[0m     \u001b[1;32mdef\u001b[0m \u001b[0mupdate_weight\u001b[0m\u001b[1;33m(\u001b[0m\u001b[0mself\u001b[0m\u001b[1;33m,\u001b[0m \u001b[0mlayer\u001b[0m\u001b[1;33m,\u001b[0m \u001b[0mfrom_node\u001b[0m\u001b[1;33m,\u001b[0m \u001b[0mto_node\u001b[0m\u001b[1;33m,\u001b[0m \u001b[0mx\u001b[0m\u001b[1;33m,\u001b[0m \u001b[0mnext_err\u001b[0m\u001b[1;33m,\u001b[0m \u001b[0mbef_delt\u001b[0m\u001b[1;33m)\u001b[0m\u001b[1;33m:\u001b[0m\u001b[1;33m\u001b[0m\u001b[0m\n\u001b[0;32m     91\u001b[0m         \u001b[0mdelta\u001b[0m \u001b[1;33m=\u001b[0m \u001b[1;33m(\u001b[0m\u001b[0mself\u001b[0m\u001b[1;33m.\u001b[0m\u001b[0mlearning_rate\u001b[0m \u001b[1;33m*\u001b[0m \u001b[0mnext_err\u001b[0m \u001b[1;33m*\u001b[0m \u001b[0mx\u001b[0m\u001b[1;33m)\u001b[0m \u001b[1;33m+\u001b[0m \u001b[1;33m(\u001b[0m\u001b[0mself\u001b[0m\u001b[1;33m.\u001b[0m\u001b[0mmomentum\u001b[0m \u001b[1;33m*\u001b[0m \u001b[0mbef_delt\u001b[0m\u001b[1;33m)\u001b[0m\u001b[1;33m\u001b[0m\u001b[0m\n\u001b[1;32m---> 92\u001b[1;33m         \u001b[0mself\u001b[0m\u001b[1;33m.\u001b[0m\u001b[0mweights\u001b[0m\u001b[1;33m[\u001b[0m\u001b[0mlayer\u001b[0m\u001b[1;33m]\u001b[0m\u001b[1;33m[\u001b[0m\u001b[0mfrom_node\u001b[0m\u001b[1;33m]\u001b[0m\u001b[1;33m[\u001b[0m\u001b[0mto_node\u001b[0m\u001b[1;33m]\u001b[0m \u001b[1;33m=\u001b[0m \u001b[0mself\u001b[0m\u001b[1;33m.\u001b[0m\u001b[0mweights\u001b[0m\u001b[1;33m[\u001b[0m\u001b[0mlayer\u001b[0m\u001b[1;33m]\u001b[0m\u001b[1;33m[\u001b[0m\u001b[0mfrom_node\u001b[0m\u001b[1;33m]\u001b[0m\u001b[1;33m[\u001b[0m\u001b[0mto_node\u001b[0m\u001b[1;33m]\u001b[0m \u001b[1;33m+\u001b[0m \u001b[0mdelta\u001b[0m\u001b[1;33m\u001b[0m\u001b[0m\n\u001b[0m\u001b[0;32m     93\u001b[0m \u001b[1;33m\u001b[0m\u001b[0m\n\u001b[0;32m     94\u001b[0m     \u001b[1;32mdef\u001b[0m \u001b[0mget_weights\u001b[0m\u001b[1;33m(\u001b[0m\u001b[0mself\u001b[0m\u001b[1;33m)\u001b[0m\u001b[1;33m:\u001b[0m\u001b[1;33m\u001b[0m\u001b[0m\n",
      "\u001b[1;31mValueError\u001b[0m: setting an array element with a sequence."
     ]
    }
   ],
   "source": [
    "clf.fit(df_data, df_data_all['play'], 1)"
   ]
  },
  {
   "cell_type": "code",
   "execution_count": 797,
   "metadata": {},
   "outputs": [
    {
     "name": "stdout",
     "output_type": "stream",
     "text": [
      "[array([[ 0.2526016 ,  0.40221079],\n",
      "       [ 0.2988795 ,  0.17298727],\n",
      "       [ 0.40079548,  0.45832805],\n",
      "       [ 0.0233846 ,  0.40836126]]), array([[ 0.73956046],\n",
      "       [ 0.15873056]])]\n"
     ]
    }
   ],
   "source": [
    "clf.get_weights()"
   ]
  },
  {
   "cell_type": "code",
   "execution_count": 720,
   "metadata": {},
   "outputs": [
    {
     "data": {
      "text/plain": [
       "[array([ 0.99934363,  0.99837399]), array([ 0.76370309])]"
      ]
     },
     "execution_count": 720,
     "metadata": {},
     "output_type": "execute_result"
    }
   ],
   "source": [
    "x = clf.feed_forward(df_data.loc[0])\n",
    "x"
   ]
  },
  {
   "cell_type": "code",
   "execution_count": null,
   "metadata": {},
   "outputs": [],
   "source": []
  },
  {
   "cell_type": "code",
   "execution_count": null,
   "metadata": {},
   "outputs": [],
   "source": []
  }
 ],
 "metadata": {
  "kernelspec": {
   "display_name": "Python 3",
   "language": "python",
   "name": "python3"
  },
  "language_info": {
   "codemirror_mode": {
    "name": "ipython",
    "version": 3
   },
   "file_extension": ".py",
   "mimetype": "text/x-python",
   "name": "python",
   "nbconvert_exporter": "python",
   "pygments_lexer": "ipython3",
   "version": "3.6.3"
  }
 },
 "nbformat": 4,
 "nbformat_minor": 2
}
