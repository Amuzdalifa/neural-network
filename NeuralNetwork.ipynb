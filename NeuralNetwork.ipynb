{
 "cells": [
  {
   "cell_type": "code",
   "execution_count": 1,
   "metadata": {},
   "outputs": [],
   "source": [
    "import numpy as np  \n",
    "import matplotlib.pyplot as plt"
   ]
  },
  {
   "cell_type": "code",
   "execution_count": 4,
   "metadata": {},
   "outputs": [],
   "source": [
    "def sigmoid(x):\n",
    "    return 1/(1+np.exp(-x))"
   ]
  },
  {
   "cell_type": "code",
   "execution_count": null,
   "metadata": {},
   "outputs": [],
   "source": []
  },
  {
   "cell_type": "code",
   "execution_count": null,
   "metadata": {},
   "outputs": [],
   "source": [
    "# Node output 1\n",
    "# Hidden layer max 10\n",
    "# bisa momentum atau tidak"
   ]
  },
  {
   "cell_type": "code",
   "execution_count": 53,
   "metadata": {},
   "outputs": [],
   "source": [
    "class NNClassifier():\n",
    "    hiddenlayer = np.array([])\n",
    "    learning_rate =0.001\n",
    "    momentum = 0.9\n",
    "    \n",
    "    def _init_(self, lr, momen):\n",
    "        self.learning_rate = lr\n",
    "        self.momentum = momen\n",
    "    \n",
    "    def add(self, node): #add hidden layer\n",
    "        if self.hiddenlayer.size < 10:\n",
    "            self.hiddenlayer = np.append(self.hiddenlayer ,node)\n",
    "    \n",
    "    def fit(X, y, momentum):\n",
    "        self.weight = np.random.rand(len(X[0]),1) ## HATI HATI\n",
    "        \n",
    "        for epoch in range(50):\n",
    "            #feed forward\n",
    "            temp = np.dot(X, self.weight)\n",
    "            z = sigmoid(temp)\n",
    "            error = z-y\n",
    "        \n",
    "            #back propagation\n",
    "            for i in range(len(X)):\n",
    "                delta_w = learning_rate * (y[i]-z[i])* X[i]\n",
    "                self.weight = self.weight + delta_w\n",
    "        \n",
    "            #update weight"
   ]
  },
  {
   "cell_type": "code",
   "execution_count": 54,
   "metadata": {},
   "outputs": [
    {
     "data": {
      "text/plain": [
       "array([], dtype=float64)"
      ]
     },
     "execution_count": 54,
     "metadata": {},
     "output_type": "execute_result"
    }
   ],
   "source": [
    "clf = NNClassifier()\n",
    "clf.hiddenlayer"
   ]
  },
  {
   "cell_type": "code",
   "execution_count": 57,
   "metadata": {},
   "outputs": [],
   "source": [
    "clf.add()"
   ]
  },
  {
   "cell_type": "code",
   "execution_count": 58,
   "metadata": {},
   "outputs": [
    {
     "data": {
      "text/plain": [
       "array([ 9.])"
      ]
     },
     "execution_count": 58,
     "metadata": {},
     "output_type": "execute_result"
    }
   ],
   "source": [
    "clf.hiddenlayer"
   ]
  },
  {
   "cell_type": "code",
   "execution_count": null,
   "metadata": {},
   "outputs": [],
   "source": []
  }
 ],
 "metadata": {
  "kernelspec": {
   "display_name": "Python 3",
   "language": "python",
   "name": "python3"
  },
  "language_info": {
   "codemirror_mode": {
    "name": "ipython",
    "version": 3
   },
   "file_extension": ".py",
   "mimetype": "text/x-python",
   "name": "python",
   "nbconvert_exporter": "python",
   "pygments_lexer": "ipython3",
   "version": "3.6.3"
  }
 },
 "nbformat": 4,
 "nbformat_minor": 2
}
