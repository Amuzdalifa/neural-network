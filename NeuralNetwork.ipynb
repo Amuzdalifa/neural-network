{
 "cells": [
  {
   "cell_type": "code",
   "execution_count": 1,
   "metadata": {},
   "outputs": [],
   "source": [
    "import numpy as np  \n",
    "import matplotlib.pyplot as plt"
   ]
  },
  {
   "cell_type": "code",
   "execution_count": 4,
   "metadata": {},
   "outputs": [],
   "source": [
    "def sigmoid(x):\n",
    "    return 1/(1+np.exp(-x))"
   ]
  },
  {
   "cell_type": "code",
   "execution_count": null,
   "metadata": {},
   "outputs": [],
   "source": []
  },
  {
   "cell_type": "code",
   "execution_count": null,
   "metadata": {},
   "outputs": [],
   "source": [
    "# Node output 1\n",
    "# Hidden layer max 10\n",
    "# bisa momentum atau tidak"
   ]
  },
  {
   "cell_type": "code",
   "execution_count": 18,
   "metadata": {},
   "outputs": [],
   "source": [
    "class NNClassifier():\n",
    "    hiddenlayer = np.array([])\n",
    "    learning_rate =0.001\n",
    "    momentum = 0.9\n",
    "    \n",
    "    def _init_(self, lr, momen):\n",
    "        self.weight = np.random.rand(4,1)\n",
    "        self.learning_rate = lr\n",
    "        self.momentum = momen\n",
    "    \n",
    "    def add(self, node): #add hidden layer\n",
    "        if self.hiddenlayer.size < 10:\n",
    "            self.hiddenlayer.append(node)\n",
    "    \n",
    "    def fit(X, y, momentum):\n",
    "        for epoch in range(50):\n",
    "            temp = 0\n",
    "            #feed forward\n",
    "            temp = np.dot(X, self.weight)\n",
    "            z = sigmoid(temp)\n",
    "            error = z-y\n",
    "        \n",
    "            #back propagation\n",
    "            delta_w = learning_rate * ()\n",
    "        \n",
    "            #update weight"
   ]
  },
  {
   "cell_type": "code",
   "execution_count": 20,
   "metadata": {},
   "outputs": [
    {
     "data": {
      "text/plain": [
       "array([], dtype=float64)"
      ]
     },
     "execution_count": 20,
     "metadata": {},
     "output_type": "execute_result"
    }
   ],
   "source": [
    "clf = NNClassifier()\n",
    "clf.hiddenlayer"
   ]
  },
  {
   "cell_type": "code",
   "execution_count": null,
   "metadata": {},
   "outputs": [],
   "source": []
  }
 ],
 "metadata": {
  "kernelspec": {
   "display_name": "Python 3",
   "language": "python",
   "name": "python3"
  },
  "language_info": {
   "codemirror_mode": {
    "name": "ipython",
    "version": 3
   },
   "file_extension": ".py",
   "mimetype": "text/x-python",
   "name": "python",
   "nbconvert_exporter": "python",
   "pygments_lexer": "ipython3",
   "version": "3.6.3"
  }
 },
 "nbformat": 4,
 "nbformat_minor": 2
}
