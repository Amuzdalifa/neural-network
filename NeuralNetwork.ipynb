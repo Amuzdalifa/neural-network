{
 "cells": [
  {
   "cell_type": "code",
   "execution_count": 1,
   "metadata": {},
   "outputs": [],
   "source": [
    "import numpy as np  \n",
    "import pandas as pd\n",
    "import matplotlib.pyplot as plt\n",
    "from sklearn.preprocessing import LabelEncoder"
   ]
  },
  {
   "cell_type": "code",
   "execution_count": 2,
   "metadata": {},
   "outputs": [
    {
     "data": {
      "text/html": [
       "<div>\n",
       "<style scoped>\n",
       "    .dataframe tbody tr th:only-of-type {\n",
       "        vertical-align: middle;\n",
       "    }\n",
       "\n",
       "    .dataframe tbody tr th {\n",
       "        vertical-align: top;\n",
       "    }\n",
       "\n",
       "    .dataframe thead th {\n",
       "        text-align: right;\n",
       "    }\n",
       "</style>\n",
       "<table border=\"1\" class=\"dataframe\">\n",
       "  <thead>\n",
       "    <tr style=\"text-align: right;\">\n",
       "      <th></th>\n",
       "      <th>outlook</th>\n",
       "      <th>temperature</th>\n",
       "      <th>humidity</th>\n",
       "      <th>windy</th>\n",
       "      <th>play</th>\n",
       "    </tr>\n",
       "  </thead>\n",
       "  <tbody>\n",
       "    <tr>\n",
       "      <th>0</th>\n",
       "      <td>sunny</td>\n",
       "      <td>85</td>\n",
       "      <td>85</td>\n",
       "      <td>False</td>\n",
       "      <td>no</td>\n",
       "    </tr>\n",
       "    <tr>\n",
       "      <th>1</th>\n",
       "      <td>sunny</td>\n",
       "      <td>80</td>\n",
       "      <td>90</td>\n",
       "      <td>True</td>\n",
       "      <td>no</td>\n",
       "    </tr>\n",
       "    <tr>\n",
       "      <th>2</th>\n",
       "      <td>overcast</td>\n",
       "      <td>83</td>\n",
       "      <td>86</td>\n",
       "      <td>False</td>\n",
       "      <td>yes</td>\n",
       "    </tr>\n",
       "    <tr>\n",
       "      <th>3</th>\n",
       "      <td>rainy</td>\n",
       "      <td>70</td>\n",
       "      <td>96</td>\n",
       "      <td>False</td>\n",
       "      <td>yes</td>\n",
       "    </tr>\n",
       "    <tr>\n",
       "      <th>4</th>\n",
       "      <td>rainy</td>\n",
       "      <td>68</td>\n",
       "      <td>80</td>\n",
       "      <td>False</td>\n",
       "      <td>yes</td>\n",
       "    </tr>\n",
       "  </tbody>\n",
       "</table>\n",
       "</div>"
      ],
      "text/plain": [
       "    outlook  temperature  humidity  windy play\n",
       "0     sunny           85        85  False   no\n",
       "1     sunny           80        90   True   no\n",
       "2  overcast           83        86  False  yes\n",
       "3     rainy           70        96  False  yes\n",
       "4     rainy           68        80  False  yes"
      ]
     },
     "execution_count": 2,
     "metadata": {},
     "output_type": "execute_result"
    }
   ],
   "source": [
    "df_data_all = pd.read_csv('tennis-cont.csv')\n",
    "df_data_all.head()"
   ]
  },
  {
   "cell_type": "code",
   "execution_count": 271,
   "metadata": {},
   "outputs": [
    {
     "data": {
      "text/plain": [
       "14"
      ]
     },
     "execution_count": 271,
     "metadata": {},
     "output_type": "execute_result"
    }
   ],
   "source": [
    "encoder = LabelEncoder()\n",
    "df_data_all = df_data_all.apply(encoder.fit_transform)\n",
    "df_data = df_data_all.drop(['play'], axis=1)\n",
    "len(df_data.index)"
   ]
  },
  {
   "cell_type": "code",
   "execution_count": 256,
   "metadata": {},
   "outputs": [
    {
     "data": {
      "text/plain": [
       "38"
      ]
     },
     "execution_count": 256,
     "metadata": {},
     "output_type": "execute_result"
    }
   ],
   "source": [
    "y = np.dot(df_data.loc[0], [[1,1],[1,1],[1,2],[1,1]])\n",
    "x = np.dot(y, [1,1])\n",
    "x"
   ]
  },
  {
   "cell_type": "code",
   "execution_count": 37,
   "metadata": {},
   "outputs": [],
   "source": [
    "def sigmoid(x):\n",
    "    return 1/(1+np.exp(-x))"
   ]
  },
  {
   "cell_type": "code",
   "execution_count": 5,
   "metadata": {},
   "outputs": [],
   "source": [
    "# Node output 1\n",
    "# Hidden layer max 10\n",
    "# bisa momentum atau tidak"
   ]
  },
  {
   "cell_type": "code",
   "execution_count": 258,
   "metadata": {},
   "outputs": [],
   "source": [
    "class NNClassifier():\n",
    "    learning_rate = 0.001\n",
    "    momentum = 0.9\n",
    "    \n",
    "    def __init__(self, lr, momen):\n",
    "        self.weights = []\n",
    "        self.layer = []\n",
    "        self.learning_rate = lr\n",
    "        self.momentum = momen\n",
    "        self.layer.append(4) # 1 for initiation\n",
    "    \n",
    "    def add(self, node): #add hidden layer\n",
    "        if len(self.layer) < 11:\n",
    "            self.layer.append(node)\n",
    "        else:\n",
    "            print(\"Maximum hidden layer = 10\")\n",
    "    \n",
    "    def fit(X, y, momentum):\n",
    "        self.layer.append(1) # add output layer\n",
    "        self.layer[0] = len(X[0]) # init input layer based on feature\n",
    "        \n",
    "        for i in range (len(self.layer)-1): # random weight for all\n",
    "            temp = np.random.rand(int(self.layer[i]),int(self.layer[i+1]))\n",
    "            self.weights += [temp]\n",
    "        \n",
    "        for epoch in range(10):\n",
    "            #feed forward\n",
    "            for i in range(len(X.index)):\n",
    "                ouput = feed_forward(X.loc[i])\n",
    "                \n",
    "            #back propagation\n",
    "        \n",
    "            #update weight\n",
    "            \n",
    "    def predict(X):\n",
    "        return (feed_forward(X))\n",
    "    \n",
    "    def feed_forward(self, X):\n",
    "        out = X\n",
    "        output = []\n",
    "        for i in range(len(self.layer)-1):\n",
    "            out = sigmoid(np.dot(out, self.weights[i]))\n",
    "            output.append(out)\n",
    "        return(output)\n",
    "                \n",
    "#     def back_propagation(self, y):\n",
    "#         for epoch in range(1):\n",
    "            \n",
    "            \n",
    "    def calculate_out_node_err(self, pred, y):\n",
    "        return pred * (1-pred) * (y-pred)\n",
    "    \n",
    "    # next_err = delta_k untuk k = jumlah node layer setelahnya\n",
    "    # layer = menunjukkan layer untuk hidden node h\n",
    "    # oh = output node h\n",
    "    def calculate_hidden_node_err(self, layer, oh, next_err)\n",
    "        sum = 0\n",
    "        for i in range(next_err):\n",
    "            weights\n",
    "        delt = oh*(1-oh)*sum\n",
    "        \n",
    "    def get_weights(self):\n",
    "        self.layer = np.append(self.layer, 1) # add output layer\n",
    "        self.layer[0] = 4 # init input layer based on feature\n",
    "        \n",
    "        for i in range (len(self.layer)-1): # random weight for all\n",
    "            temp = np.random.rand(int(self.layer[i]),int(self.layer[i+1]))\n",
    "            self.weights += [temp]\n",
    "        print(self.weights)\n",
    "        \n",
    "        \n",
    "    def update_weight(self, layer, from_node, to_node, val):\n",
    "        self.weights[layer][from_node][to_node] = val"
   ]
  },
  {
   "cell_type": "code",
   "execution_count": 259,
   "metadata": {},
   "outputs": [
    {
     "data": {
      "text/plain": [
       "[4]"
      ]
     },
     "execution_count": 259,
     "metadata": {},
     "output_type": "execute_result"
    }
   ],
   "source": [
    "clf = NNClassifier(0.1, 0.9)\n",
    "clf.layer"
   ]
  },
  {
   "cell_type": "code",
   "execution_count": 260,
   "metadata": {},
   "outputs": [],
   "source": [
    "clf.add(2)\n",
    "# clf.add(4)"
   ]
  },
  {
   "cell_type": "code",
   "execution_count": 261,
   "metadata": {},
   "outputs": [
    {
     "data": {
      "text/plain": [
       "[4, 2]"
      ]
     },
     "execution_count": 261,
     "metadata": {},
     "output_type": "execute_result"
    }
   ],
   "source": [
    "clf.layer"
   ]
  },
  {
   "cell_type": "code",
   "execution_count": 262,
   "metadata": {},
   "outputs": [
    {
     "name": "stdout",
     "output_type": "stream",
     "text": [
      "[array([[ 0.59347301,  0.58038278],\n",
      "       [ 0.40145559,  0.73002137],\n",
      "       [ 0.77399544,  0.21548014],\n",
      "       [ 0.46602549,  0.75115695]]), array([[ 0.86842811],\n",
      "       [ 0.87412988]])]\n"
     ]
    }
   ],
   "source": [
    "clf.get_weights()"
   ]
  },
  {
   "cell_type": "code",
   "execution_count": 267,
   "metadata": {},
   "outputs": [
    {
     "data": {
      "text/plain": [
       "[array([ 0.99983327,  0.99995694]), array([ 0.85098855])]"
      ]
     },
     "execution_count": 267,
     "metadata": {},
     "output_type": "execute_result"
    }
   ],
   "source": [
    "clf.feed_forward(df_data.loc[0])"
   ]
  },
  {
   "cell_type": "code",
   "execution_count": null,
   "metadata": {},
   "outputs": [],
   "source": []
  },
  {
   "cell_type": "code",
   "execution_count": null,
   "metadata": {},
   "outputs": [],
   "source": []
  }
 ],
 "metadata": {
  "kernelspec": {
   "display_name": "Python 3",
   "language": "python",
   "name": "python3"
  },
  "language_info": {
   "codemirror_mode": {
    "name": "ipython",
    "version": 3
   },
   "file_extension": ".py",
   "mimetype": "text/x-python",
   "name": "python",
   "nbconvert_exporter": "python",
   "pygments_lexer": "ipython3",
   "version": "3.6.3"
  }
 },
 "nbformat": 4,
 "nbformat_minor": 2
}
