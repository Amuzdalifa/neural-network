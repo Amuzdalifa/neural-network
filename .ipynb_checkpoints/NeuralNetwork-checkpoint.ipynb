{
 "cells": [
  {
   "cell_type": "code",
   "execution_count": 522,
   "metadata": {},
   "outputs": [],
   "source": [
    "import numpy as np  \n",
    "import pandas as pd\n",
    "import matplotlib.pyplot as plt\n",
    "from sklearn.preprocessing import LabelEncoder"
   ]
  },
  {
   "cell_type": "code",
   "execution_count": 528,
   "metadata": {},
   "outputs": [
    {
     "data": {
      "text/html": [
       "<div>\n",
       "<style scoped>\n",
       "    .dataframe tbody tr th:only-of-type {\n",
       "        vertical-align: middle;\n",
       "    }\n",
       "\n",
       "    .dataframe tbody tr th {\n",
       "        vertical-align: top;\n",
       "    }\n",
       "\n",
       "    .dataframe thead th {\n",
       "        text-align: right;\n",
       "    }\n",
       "</style>\n",
       "<table border=\"1\" class=\"dataframe\">\n",
       "  <thead>\n",
       "    <tr style=\"text-align: right;\">\n",
       "      <th></th>\n",
       "      <th>outlook</th>\n",
       "      <th>temperature</th>\n",
       "      <th>humidity</th>\n",
       "      <th>windy</th>\n",
       "      <th>play</th>\n",
       "    </tr>\n",
       "  </thead>\n",
       "  <tbody>\n",
       "    <tr>\n",
       "      <th>0</th>\n",
       "      <td>sunny</td>\n",
       "      <td>85</td>\n",
       "      <td>85</td>\n",
       "      <td>False</td>\n",
       "      <td>no</td>\n",
       "    </tr>\n",
       "    <tr>\n",
       "      <th>1</th>\n",
       "      <td>sunny</td>\n",
       "      <td>80</td>\n",
       "      <td>90</td>\n",
       "      <td>True</td>\n",
       "      <td>no</td>\n",
       "    </tr>\n",
       "    <tr>\n",
       "      <th>2</th>\n",
       "      <td>overcast</td>\n",
       "      <td>83</td>\n",
       "      <td>86</td>\n",
       "      <td>False</td>\n",
       "      <td>yes</td>\n",
       "    </tr>\n",
       "    <tr>\n",
       "      <th>3</th>\n",
       "      <td>rainy</td>\n",
       "      <td>70</td>\n",
       "      <td>96</td>\n",
       "      <td>False</td>\n",
       "      <td>yes</td>\n",
       "    </tr>\n",
       "    <tr>\n",
       "      <th>4</th>\n",
       "      <td>rainy</td>\n",
       "      <td>68</td>\n",
       "      <td>80</td>\n",
       "      <td>False</td>\n",
       "      <td>yes</td>\n",
       "    </tr>\n",
       "  </tbody>\n",
       "</table>\n",
       "</div>"
      ],
      "text/plain": [
       "    outlook  temperature  humidity  windy play\n",
       "0     sunny           85        85  False   no\n",
       "1     sunny           80        90   True   no\n",
       "2  overcast           83        86  False  yes\n",
       "3     rainy           70        96  False  yes\n",
       "4     rainy           68        80  False  yes"
      ]
     },
     "execution_count": 528,
     "metadata": {},
     "output_type": "execute_result"
    }
   ],
   "source": [
    "df_data_all = pd.read_csv('tennis-cont.csv')\n",
    "df_data_all.head()"
   ]
  },
  {
   "cell_type": "code",
   "execution_count": 531,
   "metadata": {},
   "outputs": [
    {
     "data": {
      "text/html": [
       "<div>\n",
       "<style scoped>\n",
       "    .dataframe tbody tr th:only-of-type {\n",
       "        vertical-align: middle;\n",
       "    }\n",
       "\n",
       "    .dataframe tbody tr th {\n",
       "        vertical-align: top;\n",
       "    }\n",
       "\n",
       "    .dataframe thead th {\n",
       "        text-align: right;\n",
       "    }\n",
       "</style>\n",
       "<table border=\"1\" class=\"dataframe\">\n",
       "  <thead>\n",
       "    <tr style=\"text-align: right;\">\n",
       "      <th></th>\n",
       "      <th>outlook</th>\n",
       "      <th>temperature</th>\n",
       "      <th>humidity</th>\n",
       "      <th>windy</th>\n",
       "    </tr>\n",
       "  </thead>\n",
       "  <tbody>\n",
       "    <tr>\n",
       "      <th>0</th>\n",
       "      <td>2</td>\n",
       "      <td>11</td>\n",
       "      <td>4</td>\n",
       "      <td>0</td>\n",
       "    </tr>\n",
       "    <tr>\n",
       "      <th>1</th>\n",
       "      <td>2</td>\n",
       "      <td>8</td>\n",
       "      <td>6</td>\n",
       "      <td>1</td>\n",
       "    </tr>\n",
       "    <tr>\n",
       "      <th>2</th>\n",
       "      <td>0</td>\n",
       "      <td>10</td>\n",
       "      <td>5</td>\n",
       "      <td>0</td>\n",
       "    </tr>\n",
       "    <tr>\n",
       "      <th>3</th>\n",
       "      <td>1</td>\n",
       "      <td>4</td>\n",
       "      <td>9</td>\n",
       "      <td>0</td>\n",
       "    </tr>\n",
       "    <tr>\n",
       "      <th>4</th>\n",
       "      <td>1</td>\n",
       "      <td>2</td>\n",
       "      <td>3</td>\n",
       "      <td>0</td>\n",
       "    </tr>\n",
       "  </tbody>\n",
       "</table>\n",
       "</div>"
      ],
      "text/plain": [
       "   outlook  temperature  humidity  windy\n",
       "0        2           11         4      0\n",
       "1        2            8         6      1\n",
       "2        0           10         5      0\n",
       "3        1            4         9      0\n",
       "4        1            2         3      0"
      ]
     },
     "execution_count": 531,
     "metadata": {},
     "output_type": "execute_result"
    }
   ],
   "source": [
    "encoder = LabelEncoder()\n",
    "df_data_all = df_data_all.apply(encoder.fit_transform)\n",
    "df_data = df_data_all.drop(['play'], axis=1)\n",
    "df_data.head()"
   ]
  },
  {
   "cell_type": "code",
   "execution_count": 2,
   "metadata": {},
   "outputs": [],
   "source": [
    "def sigmoid(x):\n",
    "    return 1/(1+np.exp(-x))"
   ]
  },
  {
   "cell_type": "code",
   "execution_count": 3,
   "metadata": {},
   "outputs": [],
   "source": [
    "# Node output 1\n",
    "# Hidden layer max 10\n",
    "# bisa momentum atau tidak"
   ]
  },
  {
   "cell_type": "code",
   "execution_count": 492,
   "metadata": {},
   "outputs": [],
   "source": [
    "class NNClassifier():\n",
    "    learning_rate = 0.001\n",
    "    momentum = 0.9\n",
    "    \n",
    "    def __init__(self, lr, momen):\n",
    "        self.weights = []\n",
    "        self.layer = np.array([])\n",
    "        self.learning_rate = lr\n",
    "        self.momentum = momen\n",
    "        self.layer = np.append(self.layer, 1) # 1 for initiation\n",
    "        print self.layer\n",
    "    \n",
    "    def add(self, node): #add hidden layer\n",
    "        if self.layer.size < 11:\n",
    "            self.layer = np.append(self.layer ,node)\n",
    "#             self.weights = np.append(self.weights, np.array([])) # add layer weight\n",
    "#             for i in range (len(self.layer)):\n",
    "#                 self.weights[len(self.layer)-1] = np.append(self.weights[len(self.layer)-1], np.array([])) # add node weight\n",
    "        else :\n",
    "            print \"Maximum hidden layer = 10\"\n",
    "    \n",
    "    def fit(X, y, momentum):\n",
    "        self.layer = np.append(self.layer, 1) # add output layer\n",
    "        self.layer[0] = len(X[0]) # init input layer based on feature\n",
    "        \n",
    "        for i in range (len(self.layer)-1): # random weight for all\n",
    "            temp = np.random.rand(int(self.layer[i+1]),int(self.layer[i]))\n",
    "            self.weights += [temp]\n",
    "        \n",
    "        for epoch in range(10):\n",
    "            #feed forward\n",
    "            temp = np.dot(X, self.weights)\n",
    "            z = sigmoid(temp)\n",
    "            error = z-y\n",
    "            \n",
    "            #back propagation\n",
    "            for i in range(len(X)):\n",
    "                delta_w = learning_rate * (y[i]-z[i])* X[i]\n",
    "                self.weights = self.weights + delta_w\n",
    "        \n",
    "            #update weight\n",
    "            \n",
    "         \n",
    "    def feed_forward(self):\n",
    "        weight_0 = np.random.rand(2,2)\n",
    "        weight_1 = np.random.rand(1,2)\n",
    "        \n",
    "        len_weight = 2\n",
    "        \n",
    "        X = np.array([[0.8, 0.3], [0.1, 0.4]])\n",
    "        y = np.array([1, 0])\n",
    "        \n",
    "        for epoch in range(1):         \n",
    "            for node in len(weight_0):\n",
    "                \n",
    "            \n",
    "            for layer in range (len_weight-1):\n",
    "                val_1 += val for val in z[0] \n",
    "                val_2 += val for val in z[1]\n",
    "                temp = np.dot(z, weight_1)\n",
    "                z = sigmoid(temp)\n",
    "                error = z-y\n",
    "                \n",
    "                print error\n",
    "\n",
    "            \n",
    "#     def get_weights(self):\n",
    "#         self.layer = np.append(self.layer, 1) # add output layer\n",
    "#         self.layer[0] = 2 # init input layer based on feature\n",
    "        \n",
    "#         for i in range (len(self.layer)-1): # random weight for all\n",
    "#             temp = np.random.rand(int(self.layer[i+1]),int(self.layer[i]))\n",
    "#             self.weights += [temp]\n",
    "#         print self.weights\n",
    "        \n",
    "        \n",
    "    def update_weight(self, layer, from_node, to_node, val):\n",
    "        self.weights[layer][from_node][to_node] = val"
   ]
  },
  {
   "cell_type": "code",
   "execution_count": 508,
   "metadata": {},
   "outputs": [
    {
     "name": "stdout",
     "output_type": "stream",
     "text": [
      "[1.]\n"
     ]
    },
    {
     "data": {
      "text/plain": [
       "array([1.])"
      ]
     },
     "execution_count": 508,
     "metadata": {},
     "output_type": "execute_result"
    }
   ],
   "source": [
    "clf = NNClassifier(0.1, 0.9)\n",
    "clf.layer"
   ]
  },
  {
   "cell_type": "code",
   "execution_count": 509,
   "metadata": {},
   "outputs": [],
   "source": [
    "clf.add(2)\n",
    "# clf.add(4)"
   ]
  },
  {
   "cell_type": "code",
   "execution_count": 510,
   "metadata": {},
   "outputs": [
    {
     "data": {
      "text/plain": [
       "array([1., 2.])"
      ]
     },
     "execution_count": 510,
     "metadata": {},
     "output_type": "execute_result"
    }
   ],
   "source": [
    "clf.layer"
   ]
  },
  {
   "cell_type": "code",
   "execution_count": 511,
   "metadata": {},
   "outputs": [
    {
     "name": "stdout",
     "output_type": "stream",
     "text": [
      "[array([[0.91175184, 0.59391331],\n",
      "       [0.1977736 , 0.12317836]]), array([[0.17975622, 0.87155419]])]\n"
     ]
    }
   ],
   "source": [
    "clf.get_weights()"
   ]
  },
  {
   "cell_type": "code",
   "execution_count": null,
   "metadata": {},
   "outputs": [],
   "source": []
  }
 ],
 "metadata": {
  "kernelspec": {
   "display_name": "Python 2",
   "language": "python",
   "name": "python2"
  },
  "language_info": {
   "codemirror_mode": {
    "name": "ipython",
    "version": 2
   },
   "file_extension": ".py",
   "mimetype": "text/x-python",
   "name": "python",
   "nbconvert_exporter": "python",
   "pygments_lexer": "ipython2",
   "version": "2.7.15"
  }
 },
 "nbformat": 4,
 "nbformat_minor": 2
}
